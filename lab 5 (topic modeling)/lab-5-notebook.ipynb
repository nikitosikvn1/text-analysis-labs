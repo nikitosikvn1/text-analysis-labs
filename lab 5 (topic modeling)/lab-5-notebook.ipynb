{
 "cells": [
  {
   "cell_type": "code",
   "execution_count": 1,
   "id": "5fa6bd2d-061a-4e4e-a908-c75a2d4b4b77",
   "metadata": {},
   "outputs": [],
   "source": [
    "import re\n",
    "import pandas as pd\n",
    "from typing import Set\n",
    "from itertools import islice\n",
    "\n",
    "from nltk.corpus import stopwords, gutenberg\n",
    "from nltk.tokenize import wordpunct_tokenize\n",
    "from nltk.collocations import BigramCollocationFinder\n",
    "from nltk.metrics import BigramAssocMeasures\n",
    "\n",
    "from gensim.models import Phrases, Nmf\n",
    "from gensim.models.phrases import Phraser\n",
    "from gensim.corpora import Dictionary"
   ]
  },
  {
   "cell_type": "markdown",
   "id": "133527ca-30fc-4f8a-a807-8d7af360320b",
   "metadata": {},
   "source": [
    "### Loading and displaying basic information of the BBC News dataset"
   ]
  },
  {
   "cell_type": "code",
   "execution_count": 2,
   "id": "79dfd6f5-b040-47de-ad25-455452ca5929",
   "metadata": {},
   "outputs": [
    {
     "name": "stdout",
     "output_type": "stream",
     "text": [
      "<class 'pandas.core.frame.DataFrame'>\n",
      "RangeIndex: 2225 entries, 0 to 2224\n",
      "Data columns (total 4 columns):\n",
      " #   Column    Non-Null Count  Dtype \n",
      "---  ------    --------------  ----- \n",
      " 0   category  2225 non-null   object\n",
      " 1   filename  2225 non-null   object\n",
      " 2   title     2225 non-null   object\n",
      " 3   content   2225 non-null   object\n",
      "dtypes: object(4)\n",
      "memory usage: 69.7+ KB\n"
     ]
    }
   ],
   "source": [
    "df = pd.read_csv('data/bbc-news-data.csv', delimiter='\\t')\n",
    "df.info()"
   ]
  },
  {
   "cell_type": "code",
   "execution_count": 3,
   "id": "bed71590-1725-486a-b367-9f3e777d24d0",
   "metadata": {},
   "outputs": [
    {
     "data": {
      "text/html": [
       "<div>\n",
       "<style scoped>\n",
       "    .dataframe tbody tr th:only-of-type {\n",
       "        vertical-align: middle;\n",
       "    }\n",
       "\n",
       "    .dataframe tbody tr th {\n",
       "        vertical-align: top;\n",
       "    }\n",
       "\n",
       "    .dataframe thead th {\n",
       "        text-align: right;\n",
       "    }\n",
       "</style>\n",
       "<table border=\"1\" class=\"dataframe\">\n",
       "  <thead>\n",
       "    <tr style=\"text-align: right;\">\n",
       "      <th></th>\n",
       "      <th>category</th>\n",
       "      <th>filename</th>\n",
       "      <th>title</th>\n",
       "      <th>content</th>\n",
       "    </tr>\n",
       "  </thead>\n",
       "  <tbody>\n",
       "    <tr>\n",
       "      <th>0</th>\n",
       "      <td>business</td>\n",
       "      <td>001.txt</td>\n",
       "      <td>Ad sales boost Time Warner profit</td>\n",
       "      <td>Quarterly profits at US media giant TimeWarne...</td>\n",
       "    </tr>\n",
       "    <tr>\n",
       "      <th>1</th>\n",
       "      <td>business</td>\n",
       "      <td>002.txt</td>\n",
       "      <td>Dollar gains on Greenspan speech</td>\n",
       "      <td>The dollar has hit its highest level against ...</td>\n",
       "    </tr>\n",
       "    <tr>\n",
       "      <th>2</th>\n",
       "      <td>business</td>\n",
       "      <td>003.txt</td>\n",
       "      <td>Yukos unit buyer faces loan claim</td>\n",
       "      <td>The owners of embattled Russian oil giant Yuk...</td>\n",
       "    </tr>\n",
       "    <tr>\n",
       "      <th>3</th>\n",
       "      <td>business</td>\n",
       "      <td>004.txt</td>\n",
       "      <td>High fuel prices hit BA's profits</td>\n",
       "      <td>British Airways has blamed high fuel prices f...</td>\n",
       "    </tr>\n",
       "    <tr>\n",
       "      <th>4</th>\n",
       "      <td>business</td>\n",
       "      <td>005.txt</td>\n",
       "      <td>Pernod takeover talk lifts Domecq</td>\n",
       "      <td>Shares in UK drinks and food firm Allied Dome...</td>\n",
       "    </tr>\n",
       "    <tr>\n",
       "      <th>5</th>\n",
       "      <td>business</td>\n",
       "      <td>006.txt</td>\n",
       "      <td>Japan narrowly escapes recession</td>\n",
       "      <td>Japan's economy teetered on the brink of a te...</td>\n",
       "    </tr>\n",
       "    <tr>\n",
       "      <th>6</th>\n",
       "      <td>business</td>\n",
       "      <td>007.txt</td>\n",
       "      <td>Jobs growth still slow in the US</td>\n",
       "      <td>The US created fewer jobs than expected in Ja...</td>\n",
       "    </tr>\n",
       "    <tr>\n",
       "      <th>7</th>\n",
       "      <td>business</td>\n",
       "      <td>008.txt</td>\n",
       "      <td>India calls for fair trade rules</td>\n",
       "      <td>India, which attends the G7 meeting of seven ...</td>\n",
       "    </tr>\n",
       "    <tr>\n",
       "      <th>8</th>\n",
       "      <td>business</td>\n",
       "      <td>009.txt</td>\n",
       "      <td>Ethiopia's crop production up 24%</td>\n",
       "      <td>Ethiopia produced 14.27 million tonnes of cro...</td>\n",
       "    </tr>\n",
       "    <tr>\n",
       "      <th>9</th>\n",
       "      <td>business</td>\n",
       "      <td>010.txt</td>\n",
       "      <td>Court rejects $280bn tobacco case</td>\n",
       "      <td>A US government claim accusing the country's ...</td>\n",
       "    </tr>\n",
       "  </tbody>\n",
       "</table>\n",
       "</div>"
      ],
      "text/plain": [
       "   category filename                              title  \\\n",
       "0  business  001.txt  Ad sales boost Time Warner profit   \n",
       "1  business  002.txt   Dollar gains on Greenspan speech   \n",
       "2  business  003.txt  Yukos unit buyer faces loan claim   \n",
       "3  business  004.txt  High fuel prices hit BA's profits   \n",
       "4  business  005.txt  Pernod takeover talk lifts Domecq   \n",
       "5  business  006.txt   Japan narrowly escapes recession   \n",
       "6  business  007.txt   Jobs growth still slow in the US   \n",
       "7  business  008.txt   India calls for fair trade rules   \n",
       "8  business  009.txt  Ethiopia's crop production up 24%   \n",
       "9  business  010.txt  Court rejects $280bn tobacco case   \n",
       "\n",
       "                                             content  \n",
       "0   Quarterly profits at US media giant TimeWarne...  \n",
       "1   The dollar has hit its highest level against ...  \n",
       "2   The owners of embattled Russian oil giant Yuk...  \n",
       "3   British Airways has blamed high fuel prices f...  \n",
       "4   Shares in UK drinks and food firm Allied Dome...  \n",
       "5   Japan's economy teetered on the brink of a te...  \n",
       "6   The US created fewer jobs than expected in Ja...  \n",
       "7   India, which attends the G7 meeting of seven ...  \n",
       "8   Ethiopia produced 14.27 million tonnes of cro...  \n",
       "9   A US government claim accusing the country's ...  "
      ]
     },
     "execution_count": 3,
     "metadata": {},
     "output_type": "execute_result"
    }
   ],
   "source": [
    "df.head(10)"
   ]
  },
  {
   "cell_type": "code",
   "execution_count": 4,
   "id": "0acf71c0-6af1-4663-a50b-d7c5f2b59dfc",
   "metadata": {},
   "outputs": [
    {
     "data": {
      "text/plain": [
       "category\n",
       "sport            511\n",
       "business         510\n",
       "politics         417\n",
       "tech             401\n",
       "entertainment    386\n",
       "Name: count, dtype: int64"
      ]
     },
     "execution_count": 4,
     "metadata": {},
     "output_type": "execute_result"
    }
   ],
   "source": [
    "df['category'].value_counts()"
   ]
  },
  {
   "cell_type": "markdown",
   "id": "068055ef-f0af-43c7-be49-cdf37bcc4664",
   "metadata": {},
   "source": [
    "### Preprocessing text data and displaying the first 10 rows of the processed dataset"
   ]
  },
  {
   "cell_type": "code",
   "execution_count": 5,
   "id": "7044c866-e4ce-41de-8f2f-749d12b3ea35",
   "metadata": {},
   "outputs": [
    {
     "data": {
      "text/html": [
       "<div>\n",
       "<style scoped>\n",
       "    .dataframe tbody tr th:only-of-type {\n",
       "        vertical-align: middle;\n",
       "    }\n",
       "\n",
       "    .dataframe tbody tr th {\n",
       "        vertical-align: top;\n",
       "    }\n",
       "\n",
       "    .dataframe thead th {\n",
       "        text-align: right;\n",
       "    }\n",
       "</style>\n",
       "<table border=\"1\" class=\"dataframe\">\n",
       "  <thead>\n",
       "    <tr style=\"text-align: right;\">\n",
       "      <th></th>\n",
       "      <th>category</th>\n",
       "      <th>filename</th>\n",
       "      <th>title</th>\n",
       "      <th>content</th>\n",
       "    </tr>\n",
       "  </thead>\n",
       "  <tbody>\n",
       "    <tr>\n",
       "      <th>0</th>\n",
       "      <td>business</td>\n",
       "      <td>001.txt</td>\n",
       "      <td>Ad sales boost Time Warner profit</td>\n",
       "      <td>[quarterly, profits, us, media, giant, timewar...</td>\n",
       "    </tr>\n",
       "    <tr>\n",
       "      <th>1</th>\n",
       "      <td>business</td>\n",
       "      <td>002.txt</td>\n",
       "      <td>Dollar gains on Greenspan speech</td>\n",
       "      <td>[dollar, hit, highest, level, euro, almost, th...</td>\n",
       "    </tr>\n",
       "    <tr>\n",
       "      <th>2</th>\n",
       "      <td>business</td>\n",
       "      <td>003.txt</td>\n",
       "      <td>Yukos unit buyer faces loan claim</td>\n",
       "      <td>[owners, embattled, russian, oil, giant, yukos...</td>\n",
       "    </tr>\n",
       "    <tr>\n",
       "      <th>3</th>\n",
       "      <td>business</td>\n",
       "      <td>004.txt</td>\n",
       "      <td>High fuel prices hit BA's profits</td>\n",
       "      <td>[british, airways, blamed, high, fuel, prices,...</td>\n",
       "    </tr>\n",
       "    <tr>\n",
       "      <th>4</th>\n",
       "      <td>business</td>\n",
       "      <td>005.txt</td>\n",
       "      <td>Pernod takeover talk lifts Domecq</td>\n",
       "      <td>[shares, uk, drinks, food, firm, allied, domec...</td>\n",
       "    </tr>\n",
       "    <tr>\n",
       "      <th>5</th>\n",
       "      <td>business</td>\n",
       "      <td>006.txt</td>\n",
       "      <td>Japan narrowly escapes recession</td>\n",
       "      <td>[japans, economy, teetered, brink, technical, ...</td>\n",
       "    </tr>\n",
       "    <tr>\n",
       "      <th>6</th>\n",
       "      <td>business</td>\n",
       "      <td>007.txt</td>\n",
       "      <td>Jobs growth still slow in the US</td>\n",
       "      <td>[us, created, fewer, jobs, expected, january, ...</td>\n",
       "    </tr>\n",
       "    <tr>\n",
       "      <th>7</th>\n",
       "      <td>business</td>\n",
       "      <td>008.txt</td>\n",
       "      <td>India calls for fair trade rules</td>\n",
       "      <td>[india, attends, g, meeting, seven, leading, i...</td>\n",
       "    </tr>\n",
       "    <tr>\n",
       "      <th>8</th>\n",
       "      <td>business</td>\n",
       "      <td>009.txt</td>\n",
       "      <td>Ethiopia's crop production up 24%</td>\n",
       "      <td>[ethiopia, produced, million, tonnes, crops, h...</td>\n",
       "    </tr>\n",
       "    <tr>\n",
       "      <th>9</th>\n",
       "      <td>business</td>\n",
       "      <td>010.txt</td>\n",
       "      <td>Court rejects $280bn tobacco case</td>\n",
       "      <td>[us, government, claim, accusing, countrys, bi...</td>\n",
       "    </tr>\n",
       "  </tbody>\n",
       "</table>\n",
       "</div>"
      ],
      "text/plain": [
       "   category filename                              title  \\\n",
       "0  business  001.txt  Ad sales boost Time Warner profit   \n",
       "1  business  002.txt   Dollar gains on Greenspan speech   \n",
       "2  business  003.txt  Yukos unit buyer faces loan claim   \n",
       "3  business  004.txt  High fuel prices hit BA's profits   \n",
       "4  business  005.txt  Pernod takeover talk lifts Domecq   \n",
       "5  business  006.txt   Japan narrowly escapes recession   \n",
       "6  business  007.txt   Jobs growth still slow in the US   \n",
       "7  business  008.txt   India calls for fair trade rules   \n",
       "8  business  009.txt  Ethiopia's crop production up 24%   \n",
       "9  business  010.txt  Court rejects $280bn tobacco case   \n",
       "\n",
       "                                             content  \n",
       "0  [quarterly, profits, us, media, giant, timewar...  \n",
       "1  [dollar, hit, highest, level, euro, almost, th...  \n",
       "2  [owners, embattled, russian, oil, giant, yukos...  \n",
       "3  [british, airways, blamed, high, fuel, prices,...  \n",
       "4  [shares, uk, drinks, food, firm, allied, domec...  \n",
       "5  [japans, economy, teetered, brink, technical, ...  \n",
       "6  [us, created, fewer, jobs, expected, january, ...  \n",
       "7  [india, attends, g, meeting, seven, leading, i...  \n",
       "8  [ethiopia, produced, million, tonnes, crops, h...  \n",
       "9  [us, government, claim, accusing, countrys, bi...  "
      ]
     },
     "execution_count": 5,
     "metadata": {},
     "output_type": "execute_result"
    }
   ],
   "source": [
    "def preprocess_text(text: str, stop_words: Set[str]) -> str:\n",
    "    text = re.sub(r'[^a-zA-Z\\s]', '', text, flags=re.IGNORECASE).lower().strip()\n",
    "    tokens = wordpunct_tokenize(text)\n",
    "    filtered_tokens = [t for t in tokens if t not in stop_words]\n",
    "    return filtered_tokens\n",
    "\n",
    "stoplist = set(stopwords.words('english'))\n",
    "df['content'] = df['content'].apply(lambda doc: preprocess_text(doc, stoplist))\n",
    "df.head(10)"
   ]
  },
  {
   "cell_type": "markdown",
   "id": "8148d81d-1e35-45e9-b8ef-b26891b43eb6",
   "metadata": {},
   "source": [
    "### Applying phrase detection to the preprocessed text data"
   ]
  },
  {
   "cell_type": "code",
   "execution_count": 6,
   "id": "c91d0b6a-86c9-4db3-8cba-f3bfb6f71950",
   "metadata": {},
   "outputs": [
    {
     "data": {
      "text/html": [
       "<div>\n",
       "<style scoped>\n",
       "    .dataframe tbody tr th:only-of-type {\n",
       "        vertical-align: middle;\n",
       "    }\n",
       "\n",
       "    .dataframe tbody tr th {\n",
       "        vertical-align: top;\n",
       "    }\n",
       "\n",
       "    .dataframe thead th {\n",
       "        text-align: right;\n",
       "    }\n",
       "</style>\n",
       "<table border=\"1\" class=\"dataframe\">\n",
       "  <thead>\n",
       "    <tr style=\"text-align: right;\">\n",
       "      <th></th>\n",
       "      <th>category</th>\n",
       "      <th>filename</th>\n",
       "      <th>title</th>\n",
       "      <th>content</th>\n",
       "    </tr>\n",
       "  </thead>\n",
       "  <tbody>\n",
       "    <tr>\n",
       "      <th>0</th>\n",
       "      <td>business</td>\n",
       "      <td>001.txt</td>\n",
       "      <td>Ad sales boost Time Warner profit</td>\n",
       "      <td>[quarterly, profits, us, media, giant, timewar...</td>\n",
       "    </tr>\n",
       "    <tr>\n",
       "      <th>1</th>\n",
       "      <td>business</td>\n",
       "      <td>002.txt</td>\n",
       "      <td>Dollar gains on Greenspan speech</td>\n",
       "      <td>[dollar, hit, highest, level, euro, almost, th...</td>\n",
       "    </tr>\n",
       "    <tr>\n",
       "      <th>2</th>\n",
       "      <td>business</td>\n",
       "      <td>003.txt</td>\n",
       "      <td>Yukos unit buyer faces loan claim</td>\n",
       "      <td>[owners, embattled, russian, oil, giant, yukos...</td>\n",
       "    </tr>\n",
       "    <tr>\n",
       "      <th>3</th>\n",
       "      <td>business</td>\n",
       "      <td>004.txt</td>\n",
       "      <td>High fuel prices hit BA's profits</td>\n",
       "      <td>[british, airways, blamed, high, fuel, prices,...</td>\n",
       "    </tr>\n",
       "    <tr>\n",
       "      <th>4</th>\n",
       "      <td>business</td>\n",
       "      <td>005.txt</td>\n",
       "      <td>Pernod takeover talk lifts Domecq</td>\n",
       "      <td>[shares, uk, drinks, food, firm, allied, domec...</td>\n",
       "    </tr>\n",
       "    <tr>\n",
       "      <th>5</th>\n",
       "      <td>business</td>\n",
       "      <td>006.txt</td>\n",
       "      <td>Japan narrowly escapes recession</td>\n",
       "      <td>[japans, economy, teetered, brink, technical, ...</td>\n",
       "    </tr>\n",
       "    <tr>\n",
       "      <th>6</th>\n",
       "      <td>business</td>\n",
       "      <td>007.txt</td>\n",
       "      <td>Jobs growth still slow in the US</td>\n",
       "      <td>[us, created, fewer, jobs, expected, january, ...</td>\n",
       "    </tr>\n",
       "    <tr>\n",
       "      <th>7</th>\n",
       "      <td>business</td>\n",
       "      <td>008.txt</td>\n",
       "      <td>India calls for fair trade rules</td>\n",
       "      <td>[india, attends, g, meeting, seven, leading, i...</td>\n",
       "    </tr>\n",
       "    <tr>\n",
       "      <th>8</th>\n",
       "      <td>business</td>\n",
       "      <td>009.txt</td>\n",
       "      <td>Ethiopia's crop production up 24%</td>\n",
       "      <td>[ethiopia, produced, million, tonnes, crops, h...</td>\n",
       "    </tr>\n",
       "    <tr>\n",
       "      <th>9</th>\n",
       "      <td>business</td>\n",
       "      <td>010.txt</td>\n",
       "      <td>Court rejects $280bn tobacco case</td>\n",
       "      <td>[us, government, claim, accusing, countrys, bi...</td>\n",
       "    </tr>\n",
       "  </tbody>\n",
       "</table>\n",
       "</div>"
      ],
      "text/plain": [
       "   category filename                              title  \\\n",
       "0  business  001.txt  Ad sales boost Time Warner profit   \n",
       "1  business  002.txt   Dollar gains on Greenspan speech   \n",
       "2  business  003.txt  Yukos unit buyer faces loan claim   \n",
       "3  business  004.txt  High fuel prices hit BA's profits   \n",
       "4  business  005.txt  Pernod takeover talk lifts Domecq   \n",
       "5  business  006.txt   Japan narrowly escapes recession   \n",
       "6  business  007.txt   Jobs growth still slow in the US   \n",
       "7  business  008.txt   India calls for fair trade rules   \n",
       "8  business  009.txt  Ethiopia's crop production up 24%   \n",
       "9  business  010.txt  Court rejects $280bn tobacco case   \n",
       "\n",
       "                                             content  \n",
       "0  [quarterly, profits, us, media, giant, timewar...  \n",
       "1  [dollar, hit, highest, level, euro, almost, th...  \n",
       "2  [owners, embattled, russian, oil, giant, yukos...  \n",
       "3  [british, airways, blamed, high, fuel, prices,...  \n",
       "4  [shares, uk, drinks, food, firm, allied, domec...  \n",
       "5  [japans, economy, teetered, brink, technical, ...  \n",
       "6  [us, created, fewer, jobs, expected, january, ...  \n",
       "7  [india, attends, g, meeting, seven, leading, i...  \n",
       "8  [ethiopia, produced, million, tonnes, crops, h...  \n",
       "9  [us, government, claim, accusing, countrys, bi...  "
      ]
     },
     "execution_count": 6,
     "metadata": {},
     "output_type": "execute_result"
    }
   ],
   "source": [
    "phrases = Phrases(df['content'], min_count=20, threshold=20.0)\n",
    "phraser = Phraser(phrases)\n",
    "\n",
    "df['content'] = df['content'].apply(lambda tokens: phraser[tokens])\n",
    "df.head(10)"
   ]
  },
  {
   "cell_type": "markdown",
   "id": "f7caf61e-e23e-45c0-833d-b69a56a2fb6a",
   "metadata": {},
   "source": [
    "### Creating a corpora.Dictionary from the text data and filtering extremes"
   ]
  },
  {
   "cell_type": "code",
   "execution_count": 7,
   "id": "684b44e7-f0fa-44fa-8c83-57be08d42ebf",
   "metadata": {},
   "outputs": [
    {
     "name": "stdout",
     "output_type": "stream",
     "text": [
      "Dictionary size before: 31470\n",
      "Dictionary size after: 3361\n",
      "\n",
      "Key: 0, Value: accounts\n",
      "Key: 1, Value: advertising\n",
      "Key: 2, Value: alexander\n",
      "Key: 3, Value: already\n",
      "Key: 4, Value: also\n",
      "Key: 5, Value: amount\n",
      "Key: 6, Value: analysts\n",
      "Key: 7, Value: around\n",
      "Key: 8, Value: aside\n",
      "Key: 9, Value: back\n",
      "Key: 10, Value: better\n",
      "Key: 11, Value: biggest\n",
      "Key: 12, Value: bn\n",
      "Key: 13, Value: bn_bn\n",
      "Key: 14, Value: book\n"
     ]
    }
   ],
   "source": [
    "dictionary = Dictionary(df['content'])\n",
    "print(f'Dictionary size before: {len(dictionary)}')\n",
    "dictionary.filter_extremes(no_below=20, no_above=0.6)\n",
    "print(f'Dictionary size after: {len(dictionary)}\\n')\n",
    "\n",
    "for key, value in list(islice(dictionary.items(), 15)):\n",
    "    print(f\"Key: {key}, Value: {value}\")"
   ]
  },
  {
   "cell_type": "markdown",
   "id": "e4cf0879-c34e-4065-b180-2fa9f7a9eb4a",
   "metadata": {},
   "source": [
    "### Converting text data into Bag-of-Words format"
   ]
  },
  {
   "cell_type": "code",
   "execution_count": 8,
   "id": "c915d5bf-80e3-481a-8ad9-55fe1ceeb2d0",
   "metadata": {},
   "outputs": [],
   "source": [
    "bow_corpus = [dictionary.doc2bow(t) for t in df['content']]"
   ]
  },
  {
   "cell_type": "markdown",
   "id": "867b9f19-39a5-495d-a2c8-f3522bc0b5c6",
   "metadata": {},
   "source": [
    "### Applying Non-negative Matrix Factorization (NMF) for topic modeling and displaying Top 5 topics"
   ]
  },
  {
   "cell_type": "code",
   "execution_count": 9,
   "id": "5c618e06-23f9-4b1f-894b-b9bb9d5fa12d",
   "metadata": {},
   "outputs": [
    {
     "name": "stdout",
     "output_type": "stream",
     "text": [
      "(0, '0.013*\"would\" + 0.008*\"game\" + 0.007*\"good\" + 0.007*\"get\" + 0.006*\"time\"')\n",
      "(1, '0.017*\"mr\" + 0.013*\"us\" + 0.011*\"could\" + 0.007*\"one\" + 0.006*\"government\"')\n",
      "(2, '0.015*\"would\" + 0.009*\"mr\" + 0.008*\"also\" + 0.007*\"bn\" + 0.007*\"new\"')\n",
      "(3, '0.012*\"people\" + 0.009*\"new\" + 0.008*\"one\" + 0.008*\"would\" + 0.007*\"technology\"')\n",
      "(4, '0.022*\"music\" + 0.015*\"people\" + 0.010*\"also\" + 0.008*\"world\" + 0.007*\"year\"')\n"
     ]
    }
   ],
   "source": [
    "num_topics = 5\n",
    "nmf = Nmf(bow_corpus, id2word=dictionary, num_topics=num_topics, random_state=0)\n",
    "\n",
    "for topic in nmf.print_topics(num_topics=num_topics, num_words=5):\n",
    "    print(topic)"
   ]
  },
  {
   "cell_type": "markdown",
   "id": "6c4e784d-8e0a-4e81-a2b4-55bd3f25d120",
   "metadata": {},
   "source": [
    "### Calculating topic contributions for each document and displaying the document with the highest contribution for each topic"
   ]
  },
  {
   "cell_type": "code",
   "execution_count": 10,
   "id": "01666047-81d2-48de-ad08-2ddec94c94d2",
   "metadata": {},
   "outputs": [
    {
     "name": "stdout",
     "output_type": "stream",
     "text": [
      "Topic #0, Document #1719, Contribution: 1.0\n",
      "Topic #1, Document #2122, Contribution: 0.9969749802568253\n",
      "Topic #2, Document #268, Contribution: 0.9353737872916402\n",
      "Topic #3, Document #2201, Contribution: 0.9467166547706678\n",
      "Topic #4, Document #2006, Contribution: 1.0\n"
     ]
    }
   ],
   "source": [
    "contributions = {i: [] for i in range(num_topics)}\n",
    "\n",
    "for doc_id, doc in enumerate(bow_corpus):\n",
    "    for topic_id, contribution in nmf.get_document_topics(doc):\n",
    "        contributions[topic_id].append((contribution, doc_id))\n",
    "\n",
    "for topic_id, docs in contributions.items():\n",
    "    doc_id = max(docs)[1]\n",
    "    print(f\"Topic #{topic_id}, Document #{doc_id}, Contribution: {max(docs)[0]}\")"
   ]
  },
  {
   "cell_type": "markdown",
   "id": "c56f6249-3ef5-48f3-abad-9a3d818715cb",
   "metadata": {},
   "source": [
    "### Applying topic modeling to new documents and displaying topic probabilities"
   ]
  },
  {
   "cell_type": "code",
   "execution_count": 11,
   "id": "fabdb260-109e-4dbb-82db-65a81dac2c08",
   "metadata": {},
   "outputs": [
    {
     "name": "stdout",
     "output_type": "stream",
     "text": [
      "Document #0\n",
      "Topic #0, Probability: 0.022886172091115767\n",
      "Topic #1, Probability: 0.5078263616972731\n",
      "Topic #4, Probability: 0.4692874662116112\n",
      "\n",
      "Document #1\n",
      "Topic #0, Probability: 0.08239070129444707\n",
      "Topic #1, Probability: 0.3359500474462987\n",
      "Topic #2, Probability: 0.44542199104031266\n",
      "Topic #4, Probability: 0.13623726021894159\n",
      "\n",
      "Document #2\n",
      "Topic #0, Probability: 0.7759016673880168\n",
      "Topic #4, Probability: 0.21759781630175257\n",
      "\n"
     ]
    }
   ],
   "source": [
    "new_docs = [\n",
    "    \"Python is a high-level, interpreted programming language for general-purpose programming. Created by Guido van Rossum and first released in 1991, Python has a design philosophy which emphasizes code readability, notably using significant whitespace.\",\n",
    "    \"The 2020 United States presidential election was the 59th quadrennial presidential election, held on Tuesday, November 3, 2020. The Democratic ticket of former vice president Joe Biden and the junior U.S. senator from California Kamala Harris defeated the incumbent president Donald Trump and vice president Mike Pence.\",\n",
    "    \"Football is a family of team sports that involve, to varying degrees, kicking a ball to score a goal. Unqualified, the word football normally means the form of football that is the most popular where the word is used.\"\n",
    "]\n",
    "\n",
    "preprocessed_docs = [preprocess_text(doc, stoplist) for doc in new_docs]\n",
    "bow_corpus = [dictionary.doc2bow(doc) for doc in preprocessed_docs]\n",
    "\n",
    "for doc_id, doc in enumerate(bow_corpus):\n",
    "    print(f\"Document #{doc_id}\")\n",
    "    for topic_id, prob in nmf.get_document_topics(doc):\n",
    "        print(f\"Topic #{topic_id}, Probability: {prob}\")\n",
    "    print()"
   ]
  },
  {
   "cell_type": "markdown",
   "id": "ede8ad4a-58c2-4314-974c-7fbb712163fc",
   "metadata": {},
   "source": [
    "### Extracting top 10 bigrams from 'Chesterton-Brown' text using Likelihood Ratio measure"
   ]
  },
  {
   "cell_type": "code",
   "execution_count": 12,
   "id": "8214921b-2306-4850-ba1f-997e0e22e812",
   "metadata": {},
   "outputs": [
    {
     "data": {
      "text/plain": [
       "[('father', 'brown'),\n",
       " ('said', 'father'),\n",
       " ('mr', 'glass'),\n",
       " ('dr', 'hood'),\n",
       " ('sir', 'claude'),\n",
       " ('sir', 'wilson'),\n",
       " ('mr', 'todhunter'),\n",
       " ('dont', 'know'),\n",
       " ('pilgrims', 'pond'),\n",
       " ('wilson', 'seymour')]"
      ]
     },
     "execution_count": 12,
     "metadata": {},
     "output_type": "execute_result"
    }
   ],
   "source": [
    "text = gutenberg.raw('chesterton-brown.txt')\n",
    "tokens = preprocess_text(text, stoplist)\n",
    "\n",
    "finder = BigramCollocationFinder.from_words(tokens)\n",
    "bigrams = finder.nbest(BigramAssocMeasures.likelihood_ratio, 10)\n",
    "\n",
    "bigrams"
   ]
  }
 ],
 "metadata": {
  "kernelspec": {
   "display_name": "Python 3 (ipykernel)",
   "language": "python",
   "name": "python3"
  },
  "language_info": {
   "codemirror_mode": {
    "name": "ipython",
    "version": 3
   },
   "file_extension": ".py",
   "mimetype": "text/x-python",
   "name": "python",
   "nbconvert_exporter": "python",
   "pygments_lexer": "ipython3",
   "version": "3.12.2"
  }
 },
 "nbformat": 4,
 "nbformat_minor": 5
}

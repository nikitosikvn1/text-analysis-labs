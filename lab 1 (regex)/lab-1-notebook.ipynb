{
 "cells": [
  {
   "cell_type": "code",
   "execution_count": 1,
   "id": "8b17491b-4e74-4802-9cf4-a65174bdfca3",
   "metadata": {},
   "outputs": [],
   "source": [
    "import re"
   ]
  },
  {
   "cell_type": "code",
   "execution_count": 2,
   "id": "8ac50c4f-64f8-43fe-add1-40d369e8c3b1",
   "metadata": {},
   "outputs": [
    {
     "name": "stdout",
     "output_type": "stream",
     "text": [
      "It was a 18:15 when we left Baker STreet 221b, and it still\n",
      "wanted ten minutes to the hour 6-50pm when we found ourselves in SERPENtine\n",
      "Avenue@mail.com. It was already dusk,, and the lamps were just being lighted as\n",
      "we paced up and down in front of BrioNY Lodge, waiting for the coming\n",
      "of its (343)-45-23 occupant. The house 345-A was just such as I had pictured it from\n",
      "Sherlock  Holmes’s succinct description, but the locality appeared to\n",
      "be less private that I    expected 456-45-34. On the contrary, for a small Street 23 \n",
      "in a quiet neighborhood here1232@emm.uk, it was remarkably animated. There was a\n",
      "group of   shabbily-dressed men smoking and laughing in a corner, a\n",
      "scissors-grinder +308-45-32-21 with his wheel, two guardsmen who were flirting with a\n",
      "nurse-girl, and several well-dressed young men who were lounging up and\n",
      "down with cigars in their mouths j.watson@gmail.com!!!"
     ]
    }
   ],
   "source": [
    "!cat data/text2.txt"
   ]
  },
  {
   "cell_type": "markdown",
   "id": "7e0512bf-3a54-4444-b861-9796208fe9d0",
   "metadata": {},
   "source": [
    "## Reading content from a text file"
   ]
  },
  {
   "cell_type": "code",
   "execution_count": 3,
   "id": "95a6797d-4f46-4205-a182-ce77a9d58620",
   "metadata": {},
   "outputs": [],
   "source": [
    "with open('data/text2.txt', 'r') as file:\n",
    "    content = file.read()"
   ]
  },
  {
   "cell_type": "markdown",
   "id": "1d8865dc-bf9f-44e9-a18e-569ae013a541",
   "metadata": {},
   "source": [
    "## Basic string operations in Python"
   ]
  },
  {
   "cell_type": "code",
   "execution_count": 4,
   "id": "5be9586b-87f7-44bb-b493-f7ae9bbb2327",
   "metadata": {},
   "outputs": [
    {
     "name": "stdout",
     "output_type": "stream",
     "text": [
      "Text length = 314 chars\n",
      "\n",
      "It was a 18:15 when we left Baker STreet 221b, and it still\n",
      "wanted ten minutes to the hour 6-50pm when we found ourselves in SERPENtine\n",
      "Avenue@mail.com. It was already dusk,, and the lamps were just being lighted as\n",
      "we paced up and down in front of BrioNY Lodge, waiting for the coming\n",
      "of its (343)-45-23 occupant.\n"
     ]
    }
   ],
   "source": [
    "text_clone = content[0:314]\n",
    "print(f'Text length = {len(text_clone)} chars\\n\\n{text_clone}')"
   ]
  },
  {
   "cell_type": "code",
   "execution_count": 5,
   "id": "4167b039-0bc0-4082-8628-59b7493dc17b",
   "metadata": {},
   "outputs": [
    {
     "name": "stdout",
     "output_type": "stream",
     "text": [
      "It was a 18:15 when we left Baker STreet 221b, and it still\n",
      "wanted ten minutes to the hour 6-50pm when we found ourselves in SERPENtine\n",
      "Avenue@mail\n",
      "com\n",
      " It was already dusk,, and the lamps were just being lighted as\n",
      "we paced up and down in front of BrioNY Lodge, waiting for the coming\n",
      "of its (343)-45-23 occupant\n",
      "\n"
     ]
    }
   ],
   "source": [
    "sentences = text_clone.split('.')\n",
    "print('\\n'.join(sentences))"
   ]
  },
  {
   "cell_type": "code",
   "execution_count": 6,
   "id": "f6a0d6cc-371a-45ac-bfeb-0661356025ed",
   "metadata": {},
   "outputs": [
    {
     "name": "stdout",
     "output_type": "stream",
     "text": [
      ".count('it') = 3\n",
      ".index('Baker') = 28\n",
      "\n",
      "'STreet' replaced with 'street'\n",
      "\n",
      ".upper() = BAKER STREET\n",
      ".lower() = baker street\n",
      ".capitalize() = Baker street\n",
      ".title() = Baker Street\n",
      "\n",
      "\"text1234\".isalnum() = True\n",
      "\"text_1234\".isalnum() = False\n",
      "\"abc\".isalpha() = True\n",
      "\"123\".isdigit() = True\n",
      "\"Hello, World!\".startswith('H') = True\n",
      "\"Hello, World!\".endswith('!') = True\n"
     ]
    }
   ],
   "source": [
    "it_count = text_clone.count('it')\n",
    "baker_index = text_clone.index('Baker')\n",
    "print(f'.count(\\'it\\') = {it_count}\\n.index(\\'Baker\\') = {baker_index}\\n')\n",
    "\n",
    "baker_st = text_clone[baker_index:baker_index + 12].replace('STreet', 'street')\n",
    "print(f'\\'STreet\\' replaced with \\'{baker_st[6:12]}\\'\\n')\n",
    "\n",
    "upper_baker_st = baker_st.upper()\n",
    "lower_baker_st = baker_st.lower()\n",
    "capital_baker_st = baker_st.capitalize()\n",
    "title_baker_st = baker_st.title()\n",
    "print(f'\\\n",
    ".upper() = {upper_baker_st}\\n\\\n",
    ".lower() = {lower_baker_st}\\n\\\n",
    ".capitalize() = {capital_baker_st}\\n\\\n",
    ".title() = {title_baker_st}\\n\\\n",
    "')\n",
    "\n",
    "print(f'\\\n",
    "\"text1234\".isalnum() = {\"text1234\".isalnum()}\\n\\\n",
    "\"text_1234\".isalnum() = {\"text_1234\".isalnum()}\\n\\\n",
    "\"abc\".isalpha() = {\"abc\".isalpha()}\\n\\\n",
    "\"123\".isdigit() = {\"123\".isdigit()}\\n\\\n",
    "\"Hello, World!\".startswith(\\'H\\') = {\"Hello, World!\".startswith('H')}\\n\\\n",
    "\"Hello, World!\".endswith(\\'!\\') = {\"Hello, World!\".endswith('!')}\\\n",
    "')"
   ]
  },
  {
   "cell_type": "markdown",
   "id": "8ac6315f-e651-42da-8aad-0184bd8b708f",
   "metadata": {},
   "source": [
    "## Function to convert 12-hour time format to 24-hour time format"
   ]
  },
  {
   "cell_type": "code",
   "execution_count": 7,
   "id": "367259dc-2b2d-4d85-998d-a4d6adc60837",
   "metadata": {},
   "outputs": [],
   "source": [
    "def convert_to_24(time_match: re.Match) -> str:\n",
    "    hours, minutes, period = time_match.groups()\n",
    "    hours = int(hours)\n",
    "\n",
    "    if period:\n",
    "        if period.lower() == 'pm' and hours != 12:\n",
    "            hours += 12\n",
    "        elif period.lower() == 'am' and hours == 12:\n",
    "            hours = 0\n",
    "\n",
    "    return f' {hours:02d}:{minutes} '"
   ]
  },
  {
   "cell_type": "markdown",
   "id": "1a9837fd-cdc5-4a24-a521-5c0efbd425f9",
   "metadata": {},
   "source": [
    "## Finding all matches of time pattern in text content"
   ]
  },
  {
   "cell_type": "code",
   "execution_count": 8,
   "id": "a012869e-bb6b-4a82-988f-36509455cecf",
   "metadata": {},
   "outputs": [
    {
     "data": {
      "text/plain": [
       "[('18', '15', ''), ('6', '50', 'pm')]"
      ]
     },
     "execution_count": 8,
     "metadata": {},
     "output_type": "execute_result"
    }
   ],
   "source": [
    "pattern = r\"\\s(\\d{1,2})[:-](\\d{2})(am|pm)?\\s\"\n",
    "re.findall(pattern, content)"
   ]
  },
  {
   "cell_type": "markdown",
   "id": "d593f2f5-7f8c-40e7-86f7-2ad1092500ab",
   "metadata": {},
   "source": [
    "## Converting all 12-hour time formats to 24-hour in text"
   ]
  },
  {
   "cell_type": "code",
   "execution_count": 9,
   "id": "7fa3e2fa-68e8-483d-958b-4dd81925a15d",
   "metadata": {},
   "outputs": [
    {
     "name": "stdout",
     "output_type": "stream",
     "text": [
      "It was a 18:15 when we left Baker STreet 221b, and it still\n",
      "wanted ten minutes to the hour 18:50 when we found ourselves in SERPENtine\n",
      "Avenue@mail.com. It was already dusk,, and the lamps were just being lighted as\n",
      "we paced up and down in front of BrioNY Lodge, waiting for the coming\n",
      "of its (343)-45-23 occupant. The house 345-A was just such as I had pictured it from\n",
      "Sherlock  Holmes’s succinct description, but the locality appeared to\n",
      "be less private that I    expected 456-45-34. On the contrary, for a small Street 23 \n",
      "in a quiet neighborhood here1232@emm.uk, it was remarkably animated. There was a\n",
      "group of   shabbily-dressed men smoking and laughing in a corner, a\n",
      "scissors-grinder +308-45-32-21 with his wheel, two guardsmen who were flirting with a\n",
      "nurse-girl, and several well-dressed young men who were lounging up and\n",
      "down with cigars in their mouths j.watson@gmail.com!!!\n"
     ]
    }
   ],
   "source": [
    "new_text = re.sub(pattern, convert_to_24, content, flags=re.IGNORECASE)\n",
    "print(new_text)"
   ]
  }
 ],
 "metadata": {
  "kernelspec": {
   "display_name": "Python 3 (ipykernel)",
   "language": "python",
   "name": "python3"
  },
  "language_info": {
   "codemirror_mode": {
    "name": "ipython",
    "version": 3
   },
   "file_extension": ".py",
   "mimetype": "text/x-python",
   "name": "python",
   "nbconvert_exporter": "python",
   "pygments_lexer": "ipython3",
   "version": "3.12.2"
  }
 },
 "nbformat": 4,
 "nbformat_minor": 5
}

{
 "cells": [
  {
   "cell_type": "code",
   "execution_count": 1,
   "id": "6eaf21ab-435d-4df5-ab52-a03b40f52f55",
   "metadata": {},
   "outputs": [],
   "source": [
    "import re\n",
    "import random\n",
    "import spacy\n",
    "import pandas as pd\n",
    "from typing import Set\n",
    "from textblob import TextBlob\n",
    "\n",
    "from nltk.corpus import stopwords\n",
    "from nltk.tokenize import wordpunct_tokenize\n",
    "\n",
    "from sklearn.svm import SVC\n",
    "from sklearn.model_selection import train_test_split\n",
    "from sklearn.feature_extraction.text import TfidfVectorizer\n",
    "from sklearn.metrics import confusion_matrix, accuracy_score"
   ]
  },
  {
   "cell_type": "markdown",
   "id": "14087e7e-0fdc-4a25-9c4f-8bbe6edf7e64",
   "metadata": {},
   "source": [
    "### Loading and displaying basic info of the movie dataset"
   ]
  },
  {
   "cell_type": "code",
   "execution_count": 2,
   "id": "c7830883-2e59-41c3-a38c-fafa2bfa0a71",
   "metadata": {},
   "outputs": [
    {
     "name": "stdout",
     "output_type": "stream",
     "text": [
      "<class 'pandas.core.frame.DataFrame'>\n",
      "RangeIndex: 20000 entries, 0 to 19999\n",
      "Data columns (total 3 columns):\n",
      " #   Column      Non-Null Count  Dtype \n",
      "---  ------      --------------  ----- \n",
      " 0   Unnamed: 0  20000 non-null  int64 \n",
      " 1   text        20000 non-null  object\n",
      " 2   label       20000 non-null  int64 \n",
      "dtypes: int64(2), object(1)\n",
      "memory usage: 468.9+ KB\n"
     ]
    }
   ],
   "source": [
    "df = pd.read_csv('data/movie1.csv')\n",
    "df.info()"
   ]
  },
  {
   "cell_type": "code",
   "execution_count": 3,
   "id": "d6357eee-9508-459e-adc5-be6ccbe8cd1b",
   "metadata": {},
   "outputs": [
    {
     "data": {
      "text/html": [
       "<div>\n",
       "<style scoped>\n",
       "    .dataframe tbody tr th:only-of-type {\n",
       "        vertical-align: middle;\n",
       "    }\n",
       "\n",
       "    .dataframe tbody tr th {\n",
       "        vertical-align: top;\n",
       "    }\n",
       "\n",
       "    .dataframe thead th {\n",
       "        text-align: right;\n",
       "    }\n",
       "</style>\n",
       "<table border=\"1\" class=\"dataframe\">\n",
       "  <thead>\n",
       "    <tr style=\"text-align: right;\">\n",
       "      <th></th>\n",
       "      <th>Unnamed: 0</th>\n",
       "      <th>text</th>\n",
       "      <th>label</th>\n",
       "    </tr>\n",
       "  </thead>\n",
       "  <tbody>\n",
       "    <tr>\n",
       "      <th>0</th>\n",
       "      <td>5296</td>\n",
       "      <td>The original Road House was a classic cheesy 8...</td>\n",
       "      <td>0</td>\n",
       "    </tr>\n",
       "    <tr>\n",
       "      <th>1</th>\n",
       "      <td>592</td>\n",
       "      <td>Great voices, lots of adventure and clever dia...</td>\n",
       "      <td>1</td>\n",
       "    </tr>\n",
       "    <tr>\n",
       "      <th>2</th>\n",
       "      <td>11403</td>\n",
       "      <td>Pumpkinhead was in itself a decent 80s horror ...</td>\n",
       "      <td>0</td>\n",
       "    </tr>\n",
       "    <tr>\n",
       "      <th>3</th>\n",
       "      <td>23541</td>\n",
       "      <td>This is another of Robert Altman's underrated ...</td>\n",
       "      <td>1</td>\n",
       "    </tr>\n",
       "    <tr>\n",
       "      <th>4</th>\n",
       "      <td>28770</td>\n",
       "      <td>This wasn't the major disaster that I was expe...</td>\n",
       "      <td>0</td>\n",
       "    </tr>\n",
       "    <tr>\n",
       "      <th>5</th>\n",
       "      <td>6431</td>\n",
       "      <td>This is Jackie Chan's best film, and my person...</td>\n",
       "      <td>1</td>\n",
       "    </tr>\n",
       "    <tr>\n",
       "      <th>6</th>\n",
       "      <td>25399</td>\n",
       "      <td>I've heard people compare this movie to Sidewa...</td>\n",
       "      <td>0</td>\n",
       "    </tr>\n",
       "    <tr>\n",
       "      <th>7</th>\n",
       "      <td>19690</td>\n",
       "      <td>Yes, that's right, it is. I firmly believe tha...</td>\n",
       "      <td>1</td>\n",
       "    </tr>\n",
       "    <tr>\n",
       "      <th>8</th>\n",
       "      <td>19235</td>\n",
       "      <td>For readers who have already seen one of Miyaz...</td>\n",
       "      <td>1</td>\n",
       "    </tr>\n",
       "    <tr>\n",
       "      <th>9</th>\n",
       "      <td>29550</td>\n",
       "      <td>\"The Days\" is a typical family drama with a li...</td>\n",
       "      <td>1</td>\n",
       "    </tr>\n",
       "  </tbody>\n",
       "</table>\n",
       "</div>"
      ],
      "text/plain": [
       "   Unnamed: 0                                               text  label\n",
       "0        5296  The original Road House was a classic cheesy 8...      0\n",
       "1         592  Great voices, lots of adventure and clever dia...      1\n",
       "2       11403  Pumpkinhead was in itself a decent 80s horror ...      0\n",
       "3       23541  This is another of Robert Altman's underrated ...      1\n",
       "4       28770  This wasn't the major disaster that I was expe...      0\n",
       "5        6431  This is Jackie Chan's best film, and my person...      1\n",
       "6       25399  I've heard people compare this movie to Sidewa...      0\n",
       "7       19690  Yes, that's right, it is. I firmly believe tha...      1\n",
       "8       19235  For readers who have already seen one of Miyaz...      1\n",
       "9       29550  \"The Days\" is a typical family drama with a li...      1"
      ]
     },
     "execution_count": 3,
     "metadata": {},
     "output_type": "execute_result"
    }
   ],
   "source": [
    "df.head(10)"
   ]
  },
  {
   "cell_type": "markdown",
   "id": "b347bb63-d6ca-4eac-84df-f7ff15e76e8d",
   "metadata": {},
   "source": [
    "### Preprocessing text data"
   ]
  },
  {
   "cell_type": "code",
   "execution_count": 4,
   "id": "be1f93fe-a1e9-4ccb-bab6-8cfa8520b042",
   "metadata": {},
   "outputs": [
    {
     "data": {
      "text/html": [
       "<div>\n",
       "<style scoped>\n",
       "    .dataframe tbody tr th:only-of-type {\n",
       "        vertical-align: middle;\n",
       "    }\n",
       "\n",
       "    .dataframe tbody tr th {\n",
       "        vertical-align: top;\n",
       "    }\n",
       "\n",
       "    .dataframe thead th {\n",
       "        text-align: right;\n",
       "    }\n",
       "</style>\n",
       "<table border=\"1\" class=\"dataframe\">\n",
       "  <thead>\n",
       "    <tr style=\"text-align: right;\">\n",
       "      <th></th>\n",
       "      <th>Unnamed: 0</th>\n",
       "      <th>text</th>\n",
       "      <th>label</th>\n",
       "    </tr>\n",
       "  </thead>\n",
       "  <tbody>\n",
       "    <tr>\n",
       "      <th>0</th>\n",
       "      <td>5296</td>\n",
       "      <td>original road house classic cheesy movie altho...</td>\n",
       "      <td>0</td>\n",
       "    </tr>\n",
       "    <tr>\n",
       "      <th>1</th>\n",
       "      <td>592</td>\n",
       "      <td>great voices lots adventure clever dialogue ma...</td>\n",
       "      <td>1</td>\n",
       "    </tr>\n",
       "    <tr>\n",
       "      <th>2</th>\n",
       "      <td>11403</td>\n",
       "      <td>pumpkinhead decent horror flick classic means ...</td>\n",
       "      <td>0</td>\n",
       "    </tr>\n",
       "    <tr>\n",
       "      <th>3</th>\n",
       "      <td>23541</td>\n",
       "      <td>another robert altmans underrated filmslets ho...</td>\n",
       "      <td>1</td>\n",
       "    </tr>\n",
       "    <tr>\n",
       "      <th>4</th>\n",
       "      <td>28770</td>\n",
       "      <td>wasnt major disaster expecting positive descri...</td>\n",
       "      <td>0</td>\n",
       "    </tr>\n",
       "    <tr>\n",
       "      <th>5</th>\n",
       "      <td>6431</td>\n",
       "      <td>jackie chans best film personal favourite disa...</td>\n",
       "      <td>1</td>\n",
       "    </tr>\n",
       "    <tr>\n",
       "      <th>6</th>\n",
       "      <td>25399</td>\n",
       "      <td>ive heard people compare movie sideways compar...</td>\n",
       "      <td>0</td>\n",
       "    </tr>\n",
       "    <tr>\n",
       "      <th>7</th>\n",
       "      <td>19690</td>\n",
       "      <td>yes thats right firmly believe n weird looking...</td>\n",
       "      <td>1</td>\n",
       "    </tr>\n",
       "    <tr>\n",
       "      <th>8</th>\n",
       "      <td>19235</td>\n",
       "      <td>readers already seen one miyazakis films still...</td>\n",
       "      <td>1</td>\n",
       "    </tr>\n",
       "    <tr>\n",
       "      <th>9</th>\n",
       "      <td>29550</td>\n",
       "      <td>days typical family drama little catch must re...</td>\n",
       "      <td>1</td>\n",
       "    </tr>\n",
       "  </tbody>\n",
       "</table>\n",
       "</div>"
      ],
      "text/plain": [
       "   Unnamed: 0                                               text  label\n",
       "0        5296  original road house classic cheesy movie altho...      0\n",
       "1         592  great voices lots adventure clever dialogue ma...      1\n",
       "2       11403  pumpkinhead decent horror flick classic means ...      0\n",
       "3       23541  another robert altmans underrated filmslets ho...      1\n",
       "4       28770  wasnt major disaster expecting positive descri...      0\n",
       "5        6431  jackie chans best film personal favourite disa...      1\n",
       "6       25399  ive heard people compare movie sideways compar...      0\n",
       "7       19690  yes thats right firmly believe n weird looking...      1\n",
       "8       19235  readers already seen one miyazakis films still...      1\n",
       "9       29550  days typical family drama little catch must re...      1"
      ]
     },
     "execution_count": 4,
     "metadata": {},
     "output_type": "execute_result"
    }
   ],
   "source": [
    "def preprocess_text(text: str, stop_words: Set[str]) -> str:\n",
    "    text = re.sub(r'[^a-zA-Z\\s]', '', text, flags=re.IGNORECASE).lower().strip()\n",
    "    tokens = wordpunct_tokenize(text)\n",
    "    filtered_tokens = [t for t in tokens if t not in stop_words]\n",
    "    return ' '.join(filtered_tokens)\n",
    "\n",
    "stoplist = set(stopwords.words('english'))\n",
    "df['text'] = df['text'].apply(lambda doc: preprocess_text(doc, stoplist))\n",
    "df.head(10)"
   ]
  },
  {
   "cell_type": "markdown",
   "id": "f8aacede-7b44-49c7-ab70-57222e9035df",
   "metadata": {},
   "source": [
    "### Training and evaluating an SVC model for sentiment analysis"
   ]
  },
  {
   "cell_type": "code",
   "execution_count": 5,
   "id": "7895ca57-ecf9-485c-9cf4-4a31e3a4eb19",
   "metadata": {},
   "outputs": [
    {
     "name": "stdout",
     "output_type": "stream",
     "text": [
      "Confusion Matrix:\n",
      "[[1773  258]\n",
      " [ 199 1770]]\n",
      "Accuracy: 0.886\n"
     ]
    }
   ],
   "source": [
    "X, y = df['text'], df['label']\n",
    "X_train, X_test, y_train, y_test = train_test_split(X, y, test_size=0.2, random_state=42)\n",
    "\n",
    "vectorizer = TfidfVectorizer()\n",
    "X_train = vectorizer.fit_transform(X_train)\n",
    "X_test = vectorizer.transform(X_test)\n",
    "\n",
    "clf = SVC()\n",
    "clf.fit(X_train, y_train)\n",
    "\n",
    "y_pred = clf.predict(X_test)\n",
    "\n",
    "print(f'Confusion Matrix:\\n{confusion_matrix(y_test, y_pred)}')\n",
    "print(f'Accuracy: {round(accuracy_score(y_test, y_pred), 3)}')"
   ]
  },
  {
   "cell_type": "markdown",
   "id": "50ad0167-79c3-4265-b899-ace0a31d1b10",
   "metadata": {},
   "source": [
    "### Predicting sentiment using TextBlob "
   ]
  },
  {
   "cell_type": "code",
   "execution_count": 6,
   "id": "ac2447a1-8648-4262-a3d6-eabcd315d2ed",
   "metadata": {},
   "outputs": [
    {
     "name": "stdout",
     "output_type": "stream",
     "text": [
      "Confusion Matrix:\n",
      "[[4677 5332]\n",
      " [ 669 9322]]\n",
      "Accuracy: 0.7\n"
     ]
    }
   ],
   "source": [
    "def get_sentiment(text: str) -> int:\n",
    "    analysis = TextBlob(text)\n",
    "    return 1 if analysis.sentiment.polarity > 0 else 0\n",
    "\n",
    "df['predicted_label'] = df['text'].apply(get_sentiment)\n",
    "y_true, y_pred = df['label'], df['predicted_label']\n",
    "\n",
    "print(f'Confusion Matrix:\\n{confusion_matrix(y_true, y_pred)}')\n",
    "print(f'Accuracy: {round(accuracy_score(y_true, y_pred), 3)}')"
   ]
  },
  {
   "cell_type": "markdown",
   "id": "36c673ba-2385-4dc0-af7f-a120489d05b3",
   "metadata": {},
   "source": [
    "### Comparing sentiment predictions from TextBlob and SVC for randomly selected text samples"
   ]
  },
  {
   "cell_type": "code",
   "execution_count": 7,
   "id": "c3681abc-6cfd-44e9-b655-47bcdb91a8c2",
   "metadata": {},
   "outputs": [
    {
     "name": "stdout",
     "output_type": "stream",
     "text": [
      "Text #3728: time culture reality exposed narrative overpowering fiction know small big screen apart film exposes...\n",
      "True label: 1\n",
      "Predicted label (TextBlob): 1\n",
      "Predicted label (SVC): 1\n",
      "\n",
      "Text #4558: warmest engaging movie genre lips eyes made smile cry reminded work takes pursue dream pain disappoi...\n",
      "True label: 1\n",
      "Predicted label (TextBlob): 1\n",
      "Predicted label (SVC): 1\n",
      "\n",
      "Text #18673: one shows wanted followup id couldnt bring devoting time show show centers topic politics really nee...\n",
      "True label: 0\n",
      "Predicted label (TextBlob): 1\n",
      "Predicted label (SVC): 0\n",
      "\n"
     ]
    }
   ],
   "source": [
    "for idx in random.sample(range(len(df)), 3):\n",
    "    text, true_label = df.loc[idx, 'text'], df.loc[idx, 'label']\n",
    "\n",
    "    predicted_label_textblob = get_sentiment(text)\n",
    "\n",
    "    text_transformed = vectorizer.transform([text])\n",
    "    predicted_label_svc = clf.predict(text_transformed)[0]\n",
    "\n",
    "    print(f'Text #{idx}: {text[:100]}...')\n",
    "    print(f'True label: {true_label}')\n",
    "    print(f'Predicted label (TextBlob): {predicted_label_textblob}')\n",
    "    print(f'Predicted label (SVC): {predicted_label_svc}\\n')"
   ]
  },
  {
   "cell_type": "markdown",
   "id": "21888583-8eb9-4500-8949-64c822359758",
   "metadata": {},
   "source": [
    "### Extracting stop words, nouns, persons, and dates from the text using Spacy"
   ]
  },
  {
   "cell_type": "code",
   "execution_count": 8,
   "id": "4bbc8e7f-f8b7-4bcd-a70f-64a795dc7dfa",
   "metadata": {},
   "outputs": [
    {
     "name": "stdout",
     "output_type": "stream",
     "text": [
      "Stop words in the text:\n",
      "{'The', 'the', 'his', 'an', 'for', 'where', 'last', 'A', 'to', 'then', 'before', 'He', 'when', 'from', 'of', 'on', 'was', 'at', 'while', 'he', 'more', 'as', 'one', 'is', 'became', 'also', 'May', 'And', 'with', \"'s\", 'and', 'through', 'in', 'a', 'who'}\n",
      "\n",
      "Nouns in the text:\n",
      "['rise', 'ranks', 'government', 'promotion', 'minister', 'seat', 'job', 'school', 'standards', 'minister', 'role', 'election', 'figure', 'head', 'policy', 'unit', 'member', 'manifesto', 'team', 'figures', 'government', 'policy', 'unit', 'leader', 'opposition', 'glance', 'family', 'background', 'pedigree', 'form', 'father', 'lieutenant', 'brother', 'advisor', 'time', 'year', 'politics', 'philosophy', 'economics', 'MSc', 'science']\n",
      "\n",
      "Persons in the text:\n",
      "[\"David Miliband's\", 'Tony Blair', 'Ralph', 'David Miliband', 'Blair', 'Ed', 'Gordon Brown', 'Mr Blair', 'David Miliband']\n",
      "\n",
      "Dates in the text:\n",
      "['2001', 'May 2002', '1994', '39-year-old']\n",
      "\n"
     ]
    }
   ],
   "source": [
    "with open('data/lab6-2.txt', 'r') as file:\n",
    "    content = file.read()\n",
    "\n",
    "nlp = spacy.load('en_core_web_sm')\n",
    "doc = nlp(content)\n",
    "\n",
    "stop_words = set([token.text for token in doc if token.is_stop])\n",
    "print(f'Stop words in the text:\\n{stop_words}\\n')\n",
    "\n",
    "nouns = [token.text for token in doc if token.pos_ == 'NOUN']\n",
    "print(f'Nouns in the text:\\n{nouns}\\n')\n",
    "\n",
    "persons = [ent.text for ent in doc.ents if ent.label_ == 'PERSON']\n",
    "print(f'Persons in the text:\\n{persons}\\n')\n",
    "\n",
    "dates = [ent.text for ent in doc.ents if ent.label_ == 'DATE']\n",
    "print(f'Dates in the text:\\n{dates}\\n')"
   ]
  }
 ],
 "metadata": {
  "kernelspec": {
   "display_name": "Python 3 (ipykernel)",
   "language": "python",
   "name": "python3"
  },
  "language_info": {
   "codemirror_mode": {
    "name": "ipython",
    "version": 3
   },
   "file_extension": ".py",
   "mimetype": "text/x-python",
   "name": "python",
   "nbconvert_exporter": "python",
   "pygments_lexer": "ipython3",
   "version": "3.12.2"
  }
 },
 "nbformat": 4,
 "nbformat_minor": 5
}

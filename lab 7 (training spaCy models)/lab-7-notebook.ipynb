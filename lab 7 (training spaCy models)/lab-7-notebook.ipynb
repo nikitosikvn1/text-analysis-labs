{
 "cells": [
  {
   "cell_type": "code",
   "execution_count": 1,
   "id": "f3a2009e-e0a1-4fb4-a3e6-e11f2b0eef51",
   "metadata": {},
   "outputs": [],
   "source": [
    "import random\n",
    "import json\n",
    "import spacy\n",
    "from spacy.training.example import Example\n",
    "from spacy.util import minibatch, compounding"
   ]
  },
  {
   "cell_type": "markdown",
   "id": "abd304a6-b898-4bd1-a818-fbb6e7e30d79",
   "metadata": {},
   "source": [
    "### Sample training data for Medical Named Entity Recognition (NER)"
   ]
  },
  {
   "cell_type": "code",
   "execution_count": 2,
   "id": "1faeed57-af71-4923-b696-bcceee786636",
   "metadata": {},
   "outputs": [
    {
     "name": "stdout",
     "output_type": "stream",
     "text": [
      "Label: ORGAN, Extracted: 'heart'\n",
      "Label: BODY_PART, Extracted: 'leg'\n",
      "Label: ORGAN, Extracted: 'stomach'\n",
      "Label: BODY_PART, Extracted: 'spine'\n",
      "Label: ORGAN, Extracted: 'kidneys'\n",
      "Label: ORGAN, Extracted: 'liver'\n",
      "Label: ORGAN, Extracted: 'brain'\n",
      "Label: ORGAN, Extracted: 'lung'\n",
      "Label: BODY_PART, Extracted: 'arm'\n",
      "Label: BODY_PART, Extracted: 'throat'\n",
      "Label: BODY_PART, Extracted: 'blood'\n",
      "Label: BODY_PART, Extracted: 'skin'\n",
      "Label: ORGAN, Extracted: 'eye'\n",
      "Label: BODY_PART, Extracted: 'chest'\n",
      "Label: BODY_PART, Extracted: 'skull'\n"
     ]
    }
   ],
   "source": [
    "TRAIN_DATA = [\n",
    "    (\"The patient's heart rate is elevated.\", {\"entities\": [(14, 19, \"ORGAN\")]}),\n",
    "    (\"She broke her leg during the soccer match.\", {\"entities\": [(14, 17, \"BODY_PART\")]}),\n",
    "    (\"He has been experiencing severe stomach pain.\", {\"entities\": [(32, 39, \"ORGAN\")]}),\n",
    "    (\"The X-ray showed a fracture in her spine.\", {\"entities\": [(35, 40, \"BODY_PART\")]}),\n",
    "    (\"His kidneys are functioning at a lower level than normal.\", {\"entities\": [(4, 11, \"ORGAN\")]}),\n",
    "    (\"The patient has a history of liver disease.\", {\"entities\": [(29, 34, \"ORGAN\")]}),\n",
    "    (\"The MRI revealed a problem with his brain.\", {\"entities\": [(36, 41, \"ORGAN\")]}),\n",
    "    (\"She has been diagnosed with lung cancer.\", {\"entities\": [(28, 32, \"ORGAN\")]}),\n",
    "    (\"The patient has a broken arm.\", {\"entities\": [(25, 28, \"BODY_PART\")]}),\n",
    "    (\"She has a high fever and sore throat.\", {\"entities\": [(30, 36, \"BODY_PART\")]}),\n",
    "    (\"The patient's blood pressure is too high.\", {\"entities\": [(14, 19, \"BODY_PART\")]}),\n",
    "    (\"He has a rash on his skin.\", {\"entities\": [(21, 25, \"BODY_PART\")]}),\n",
    "    (\"The patient has a history of eye disorders.\", {\"entities\": [(29, 32, \"ORGAN\")]}),\n",
    "    (\"She has been experiencing chest pain.\", {\"entities\": [(26, 31, \"BODY_PART\")]}),\n",
    "    (\"The patient has a fractured skull.\", {\"entities\": [(28, 33, \"BODY_PART\")]}),\n",
    "]\n",
    "\n",
    "for text, annotation in TRAIN_DATA:\n",
    "    for start, end, label in annotation[\"entities\"]:\n",
    "        print(f\"Label: {label}, Extracted: '{text[start:end]}'\")"
   ]
  },
  {
   "cell_type": "markdown",
   "id": "9fd59f90-f8da-4379-8b01-aae90a47d1e7",
   "metadata": {},
   "source": [
    "### Training a Medical NER model with spaCy and evaluating on test docs"
   ]
  },
  {
   "cell_type": "code",
   "execution_count": 3,
   "id": "ad523813-de26-4b93-a25a-cebd17b215c7",
   "metadata": {},
   "outputs": [
    {
     "name": "stdout",
     "output_type": "stream",
     "text": [
      "Text: The patient complained of severe heart pain and a broken leg.\n",
      "Entities: [('ORGAN', 'heart'), ('BODY_PART', 'leg')]\n",
      "\n",
      "Text: He has a problem with his spleen.\n",
      "Entities: [('ORGAN', 'spleen')]\n",
      "\n",
      "Text: She has a cut on her finger.\n",
      "Entities: [('BODY_PART', 'finger')]\n",
      "\n",
      "Text: The patient has a dislocated shoulder.\n",
      "Entities: [('BODY_PART', 'shoulder')]\n",
      "\n"
     ]
    }
   ],
   "source": [
    "nlp = spacy.load('en_core_web_md')\n",
    "\n",
    "ner = nlp.get_pipe('ner')\n",
    "ner.add_label('ORGAN')\n",
    "ner.add_label('BODY_PART')\n",
    "\n",
    "N_ITER = 20\n",
    "other_pipes = [pipe for pipe in nlp.pipe_names if pipe != \"ner\"]\n",
    "\n",
    "with nlp.disable_pipes(*other_pipes):\n",
    "    optimizer = nlp.create_optimizer()\n",
    "    for i in range(N_ITER):\n",
    "        random.shuffle(TRAIN_DATA)\n",
    "        for text, annotations in TRAIN_DATA:\n",
    "            example = Example.from_dict(nlp.make_doc(text), annotations)\n",
    "            nlp.update([example], drop=0.5, sgd=optimizer)\n",
    "\n",
    "test_texts = [\n",
    "    \"The patient complained of severe heart pain and a broken leg.\",\n",
    "    \"He has a problem with his spleen.\",\n",
    "    \"She has a cut on her finger.\",\n",
    "    \"The patient has a dislocated shoulder.\",\n",
    "]\n",
    "\n",
    "for text in test_texts:\n",
    "    doc = nlp(text)\n",
    "    print(f\"Text: {text}\\nEntities: {[(e.label_, e.text) for e in doc.ents]}\\n\")"
   ]
  },
  {
   "cell_type": "markdown",
   "id": "60687fc0-93c2-4d49-8f96-5188f12e9d20",
   "metadata": {},
   "source": [
    "### Loading and Preparing Training Data"
   ]
  },
  {
   "cell_type": "code",
   "execution_count": 4,
   "id": "b6a20e3c-c8a4-4a4a-86ff-26be7f2e8007",
   "metadata": {},
   "outputs": [],
   "source": [
    "def load_training_data(file_path):\n",
    "    with open(file_path, 'r') as file:\n",
    "        content = json.load(file)\n",
    "\n",
    "    data = []\n",
    "    for dialogue in content:\n",
    "        for turn in dialogue['turns']:\n",
    "            if turn['speaker'] == 'USER':\n",
    "                for frame in turn['frames']:\n",
    "                    if 'active_intent' in frame['state']:\n",
    "                        utterance = turn['utterance']\n",
    "                        intent = frame['state']['active_intent']\n",
    "                        data.append((utterance, intent))\n",
    "    return data\n",
    "\n",
    "def prepare_training_data(data):\n",
    "    training_data = []\n",
    "    for text, intent in data:\n",
    "        training_data.append((text, {\"cats\": {intent: 1.0}}))\n",
    "    return training_data\n",
    "\n",
    "data = load_training_data('data/services.json')\n",
    "training_data = prepare_training_data(data)"
   ]
  },
  {
   "cell_type": "markdown",
   "id": "284b03e7-1180-4e2b-a499-50beb91f4bb6",
   "metadata": {},
   "source": [
    "### Training text classification model and testing on new texts"
   ]
  },
  {
   "cell_type": "code",
   "execution_count": 5,
   "id": "6de1151e-c2f2-4be6-af57-c9afac1b92fb",
   "metadata": {},
   "outputs": [
    {
     "name": "stdout",
     "output_type": "stream",
     "text": [
      "Text: Please find me a dentist in Cupertino.\n",
      "Intents: [('FindProvider', 1.0), ('BookAppointment', 0.0), ('NONE', 0.0)]\n",
      "\n",
      "Text: I need a plumber in San Francisco.\n",
      "Intents: [('FindProvider', 1.0), ('BookAppointment', 0.0), ('NONE', 0.0)]\n",
      "\n",
      "Text: Can you locate a nearby gym?\n",
      "Intents: [('FindProvider', 1.0), ('BookAppointment', 0.0), ('NONE', 0.0)]\n",
      "\n",
      "Text: Book an appointment with Dr. Smith for tomorrow.\n",
      "Intents: [('FindProvider', 0.0), ('BookAppointment', 1.0), ('NONE', 0.0)]\n",
      "\n",
      "Text: Schedule a meeting with my lawyer at 3 PM.\n",
      "Intents: [('FindProvider', 0.0), ('BookAppointment', 1.0), ('NONE', 0.0)]\n",
      "\n",
      "Text: Can you arrange a dentist appointment for next week?\n",
      "Intents: [('FindProvider', 0.0), ('BookAppointment', 1.0), ('NONE', 0.0)]\n",
      "\n",
      "Text: Nothing specific.\n",
      "Intents: [('FindProvider', 0.05), ('BookAppointment', 0.0), ('NONE', 0.95)]\n",
      "\n",
      "Text: No need for assistance.\n",
      "Intents: [('FindProvider', 0.0), ('BookAppointment', 0.0), ('NONE', 1.0)]\n",
      "\n",
      "Text: I'm okay for now.\n",
      "Intents: [('FindProvider', 0.26), ('BookAppointment', 0.67), ('NONE', 0.07)]\n",
      "\n"
     ]
    }
   ],
   "source": [
    "nlp = spacy.blank(\"en\")\n",
    "textcat = nlp.add_pipe(\"textcat\", last=True)\n",
    "\n",
    "for _, annotations in training_data:\n",
    "    for cat in annotations['cats']:\n",
    "        textcat.add_label(cat) # FindProvider, BookAppointment, NONE\n",
    "\n",
    "N_ITER = 15\n",
    "nlp.begin_training()\n",
    "\n",
    "for i in range(N_ITER):\n",
    "    random.shuffle(training_data)\n",
    "    for batch in minibatch(training_data, size=compounding(4.0, 32.0, 1.001)):\n",
    "        for text, annotations in batch:\n",
    "            example = Example.from_dict(nlp.make_doc(text), annotations)\n",
    "            nlp.update([example])\n",
    "\n",
    "texts = [\n",
    "    \"Please find me a dentist in Cupertino.\",\n",
    "    \"I need a plumber in San Francisco.\",\n",
    "    \"Can you locate a nearby gym?\",\n",
    "    \n",
    "    \"Book an appointment with Dr. Smith for tomorrow.\",\n",
    "    \"Schedule a meeting with my lawyer at 3 PM.\",\n",
    "    \"Can you arrange a dentist appointment for next week?\",\n",
    "\n",
    "    \"Nothing specific.\",\n",
    "    \"No need for assistance.\",\n",
    "    \"I'm okay for now.\",\n",
    "]\n",
    "\n",
    "for text in texts:\n",
    "    doc = nlp(text)\n",
    "    print(f\"Text: {text}\\nIntents: {[(k, round(v, 2)) for k, v in doc.cats.items()]}\\n\")"
   ]
  }
 ],
 "metadata": {
  "kernelspec": {
   "display_name": "Python 3 (ipykernel)",
   "language": "python",
   "name": "python3"
  },
  "language_info": {
   "codemirror_mode": {
    "name": "ipython",
    "version": 3
   },
   "file_extension": ".py",
   "mimetype": "text/x-python",
   "name": "python",
   "nbconvert_exporter": "python",
   "pygments_lexer": "ipython3",
   "version": "3.12.2"
  }
 },
 "nbformat": 4,
 "nbformat_minor": 5
}

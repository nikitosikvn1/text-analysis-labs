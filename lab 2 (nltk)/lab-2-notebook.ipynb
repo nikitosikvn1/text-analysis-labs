{
 "cells": [
  {
   "cell_type": "code",
   "execution_count": 1,
   "id": "08a4d82b-4c8c-4059-8b76-2f8e003e5c15",
   "metadata": {},
   "outputs": [
    {
     "name": "stderr",
     "output_type": "stream",
     "text": [
      "/tmp/ipykernel_36466/1528334065.py:3: DeprecationWarning: \n",
      "Pyarrow will become a required dependency of pandas in the next major release of pandas (pandas 3.0),\n",
      "(to allow more performant data types, such as the Arrow string type, and better interoperability with other libraries)\n",
      "but was not found to be installed on your system.\n",
      "If this would cause problems for you,\n",
      "please provide us feedback at https://github.com/pandas-dev/pandas/issues/54466\n",
      "        \n",
      "  import pandas as pd\n"
     ]
    }
   ],
   "source": [
    "import re\n",
    "import string\n",
    "import pandas as pd\n",
    "\n",
    "from nltk.tokenize import sent_tokenize, word_tokenize, regexp_tokenize\n",
    "from nltk.corpus import stopwords, wordnet, brown\n",
    "from nltk.stem import WordNetLemmatizer\n",
    "from nltk.tag import pos_tag\n",
    "from nltk.probability import FreqDist"
   ]
  },
  {
   "cell_type": "code",
   "execution_count": 2,
   "id": "7b2033cb-4a30-47e0-8981-43f58d4f8bf5",
   "metadata": {},
   "outputs": [
    {
     "name": "stdout",
     "output_type": "stream",
     "text": [
      "It was a few weeks before my own marriage, during the days when I was\n",
      "still sharing rooms with Holmes in Baker Street, that he came home from\n",
      "an afternoon stroll to find a letter on the table waiting for him.\n",
      "I had remained in-doors all day, for the weather had taken a sudden\n",
      "turn to rain, with high autumnal winds, and the jezail bullet which I\n",
      "had brought back in one of my limbs as a relic of my Afghan campaign,\n",
      "throbbed with dull persistency. With my body in one easy-chair and my\n",
      "legs upon another, I had surrounded myself with a cloud of newspapers,\n",
      "until at last, saturated with the news of the day, I tossed them all\n",
      "aside and lay listless, watching the huge crest and monogram upon the\n",
      "envelope upon the table, and wondering lazily who my friend’s noble\n",
      "correspondent could be.\n",
      "\n",
      "“Here is a very fashionable epistle,” I remarked, as he entered. “Your\n",
      "morning letters, if I remember right, were from a fish-monger and a\n",
      "tide-waiter.”"
     ]
    }
   ],
   "source": [
    "!cat data/text3.txt"
   ]
  },
  {
   "cell_type": "markdown",
   "id": "d2ac9900-abcf-4585-a917-b51af6279a2e",
   "metadata": {},
   "source": [
    "## Reading content from a text file"
   ]
  },
  {
   "cell_type": "code",
   "execution_count": 3,
   "id": "f5a8ca7b-270e-47cd-8ee8-666052a1ffea",
   "metadata": {},
   "outputs": [],
   "source": [
    "with open('data/text3.txt', 'r') as f:\n",
    "    text = f.read()"
   ]
  },
  {
   "cell_type": "markdown",
   "id": "6f5c7421-6fc2-4a6e-9840-31743b62bb93",
   "metadata": {},
   "source": [
    "## Counting punctuation marks in the text"
   ]
  },
  {
   "cell_type": "code",
   "execution_count": 4,
   "id": "b7eb89d9-ddc8-46c0-877c-507f96acf03b",
   "metadata": {},
   "outputs": [
    {
     "name": "stdout",
     "output_type": "stream",
     "text": [
      "The number of punctuation marks: 21\n"
     ]
    }
   ],
   "source": [
    "tokens = word_tokenize(text, language='english')\n",
    "punc = [t for t in tokens if t in string.punctuation]\n",
    "\n",
    "print(f'The number of punctuation marks: {len(punc)}')"
   ]
  },
  {
   "cell_type": "markdown",
   "id": "f9a6fdc0-19d4-48d0-9ef8-93daa43d217e",
   "metadata": {},
   "source": [
    "## Removing stop words"
   ]
  },
  {
   "cell_type": "code",
   "execution_count": 5,
   "id": "6ac2dd36-d901-4153-b823-20899ad6a855",
   "metadata": {},
   "outputs": [
    {
     "name": "stdout",
     "output_type": "stream",
     "text": [
      "Cleaned text:\n",
      "\n",
      "weeks marriage , days still sharing rooms Holmes Baker Street , came home afternoon stroll find letter table waiting . remained in-doors day , weather taken sudden turn rain , high autumnal winds , jezail bullet brought back one limbs relic Afghan campaign , throbbed dull persistency . body one easy-chair legs upon another , surrounded cloud newspapers , last , saturated news day , tossed aside lay listless , watching huge crest monogram upon envelope upon table , wondering lazily friend ’ noble correspondent could . “ fashionable epistle , ” remarked , entered . “ morning letters , remember right , fish-monger tide-waiter . ”\n"
     ]
    }
   ],
   "source": [
    "stoplist = stopwords.words('english')\n",
    "clean_words = [t for t in tokens if t.lower() not in stoplist]\n",
    "\n",
    "print(f'Cleaned text:\\n\\n{' '.join(clean_words)}')"
   ]
  },
  {
   "cell_type": "markdown",
   "id": "63d2e141-0bb7-4efc-9548-9e91314123c6",
   "metadata": {},
   "source": [
    "## PoS identification"
   ]
  },
  {
   "cell_type": "code",
   "execution_count": 6,
   "id": "ee98bd16-f3a9-4a2d-b70a-8be044aff550",
   "metadata": {},
   "outputs": [],
   "source": [
    "pos_dict = {\n",
    "    'J': wordnet.ADJ,\n",
    "    'V': wordnet.VERB,\n",
    "    'N': wordnet.NOUN,\n",
    "    'R': wordnet.ADV,\n",
    "}\n",
    "\n",
    "# Func to convert Penn Treebank PoS / Universal tags into WordNet format\n",
    "to_wordnet_format = lambda pos: pos_dict.get(pos[0].upper(), wordnet.NOUN)"
   ]
  },
  {
   "cell_type": "markdown",
   "id": "fddd1e68-c687-46ff-b311-066202bba297",
   "metadata": {},
   "source": [
    "## Lemmatization"
   ]
  },
  {
   "cell_type": "code",
   "execution_count": 7,
   "id": "352b4d37-f013-45cf-8469-5a5afa6ce0d5",
   "metadata": {},
   "outputs": [
    {
     "name": "stdout",
     "output_type": "stream",
     "text": [
      "['With', 'my', 'body', 'in', 'one', 'easy', 'chair', 'and', 'my', 'legs', 'upon', 'another', 'I', 'have', 'surround', 'myself', 'with', 'a', 'cloud', 'of', 'newspaper', 'until', 'at', 'last', 'saturated', 'with', 'the', 'news', 'of', 'the', 'day', 'I', 'toss', 'them', 'all', 'aside', 'and', 'lay', 'listless', 'watch', 'the', 'huge', 'crest', 'and', 'monogram', 'upon', 'the', 'envelope', 'upon', 'the', 'table', 'and', 'wonder', 'lazily', 'who', 'my', 'friend', 's', 'noble', 'correspondent', 'could', 'be']\n"
     ]
    }
   ],
   "source": [
    "sents = sent_tokenize(text)\n",
    "words = regexp_tokenize(sents[2], pattern=r'\\w+')\n",
    "\n",
    "lemmatizer = WordNetLemmatizer()\n",
    "lemmatized_words = [lemmatizer.lemmatize(w, pos=to_wordnet_format(p)) for w, p in pos_tag(words)]\n",
    "\n",
    "print(lemmatized_words)"
   ]
  },
  {
   "cell_type": "markdown",
   "id": "b0cf49b7-2dfc-4584-9244-cfb144c40187",
   "metadata": {},
   "source": [
    "## Extracting sentences from a corpus"
   ]
  },
  {
   "cell_type": "code",
   "execution_count": 8,
   "id": "b612d188-1a49-4a36-b918-3b77ab51b1f9",
   "metadata": {},
   "outputs": [
    {
     "data": {
      "text/plain": [
       "['The tremendous energy released by giant rocket engines perhaps can be felt much better than it can be heard .',\n",
       " 'The pulsating vibration of energy clutches at the pit of your stomach .',\n",
       " 'Never before has the introduction of a weapon caused so much apprehension and fear .',\n",
       " 'Nuclear weapons are fearsome , but the long-range ballistic missile gives them a stealth and merciless swiftness which is much more terrifying .',\n",
       " 'A great many writers are bewitched by the apparently overwhelming advantage an attacker would have if he were to strike with complete surprise using nuclear rockets .',\n",
       " \"It is relatively easy to go a step further and reason that an attacker , in possession of such absolute power , would simultaneously destroy his opponent's cities and people .\",\n",
       " \"With a nation defenseless before it , why would the attacker spare the victim's people ? ?\",\n",
       " \"Wouldn't the wanton destruction of cities and people be the logical act of complete subjugation ? ?\",\n",
       " 'The nation would be utterly devastated .',\n",
       " 'The will of its people , so crucial in time of peril , would be broken .',\n",
       " 'Nuclear weapons have given the world the means for self-destruction in hours or days ; ;',\n",
       " 'and now rockets have given it the means to destroy itself in minutes .',\n",
       " \"At this point it should be painfully obvious that cities , being `` soft '' , and the people within them are ideally suited to destruction by nuclear weapons .\",\n",
       " \"However , because this vulnerability is mutual , it is to the advantage of neither side to destroy the opponent's cities , at least so long as the opponent has nuclear weapons with which to effect reprisal .\",\n",
       " 'It should be appallingly apparent that city-trading is not a profitable military tactic .',\n",
       " 'ICBMs have given us a capability which could be used in two different ways .',\n",
       " \"They could be used to attack a nation's people ( which would inevitably mean the loss of the attacker's own people ) , or they could be used with discrimination to destroy the enemy's military force .\",\n",
       " 'If our national interest lies in being able to fight and win a war rather than committing national suicide , then we must take a much more penetrating look at ballistic missiles .',\n",
       " 'We must determine whether missiles can win a war all by themselves .',\n",
       " 'We must make certain that the aircraft is finished before we give the entire job to the missile .',\n",
       " 'Missiles are very valuable weapons , but they also have their too little known limitations .',\n",
       " \"Because of a missile's ballistic trajectory , the location of a fixed target must be known quite accurately .\",\n",
       " 'Placing missiles in submarines , on barges , railroads , highways , surface vessels and in the air provides them with passive protection by taking advantage of the gravest weakness of long-range ballistic missiles today -- the extreme difficulty of destroying a mobile or moving target with such weapons .',\n",
       " 'One must first detect a fleeting mobile or moving target , decide that it is worthy of destruction , select the missile to be fired against the target , compute ballistics for the flight , and prepare the missile for firing .',\n",
       " 'Even if all these operations could be performed instantaneously , the ICBM still has a time of flight to the target of about 30 minutes .',\n",
       " 'Therefore , if the target can significantly change its location in something less than 30 minutes , the probability of having destroyed it is drastically lowered .',\n",
       " 'Because of this , it would appear inevitable that an increasing percentage of strategic missiles will seek self-protection in mobility -- at least until missile defenses are perfected which have an exceedingly high kill probability .',\n",
       " \"In order to destroy the enemy's mobile , moving , or imprecisely located strategic forces , we must have a hunter-killer capability in addition to our missiles .\",\n",
       " 'Until this hunter-killer operation can be performed by spacecraft , manned aircraft appear to be the only means available to us .',\n",
       " \"It seems reasonable that if general nuclear war is not to be one cataclysmic act of burning each other's citizens to cinders , we must have a manned strategic force of long-endurance aircraft capable of going into China or Russia to find and destroy their strategic forces which continued to threaten us .\",\n",
       " 'Let us suppose the Russians decide to build a rail-mobile ICBM force .',\n",
       " 'It is entirely feasible to employ aircraft such as the B-52 or B-70 in hunter-killer operations against Soviet railway-based missiles .',\n",
       " 'If we stop thinking in terms of tremendous multimegaton nuclear weapons and consider employing much smaller nuclear weapons which may be more appropriate for most important military targets , it would seem that the B-52 or B-70 could carry a great many small nuclear weapons .',\n",
       " \"An aircraft with a load of small nuclear weapons could very conceivably be given a mission to suppress all trains operating within a specified geographic area of Russia -- provided that we had used some of our ICBMs to degrade Russia's air defenses before our bombers got there .\",\n",
       " 'The aircraft could be used to destroy other mobile , fleeting , and imprecisely located targets as well as the known , fixed and hardened targets which can also be destroyed by missile .',\n",
       " \"Why , then , aren't we planning a larger , more important role for manned military aircraft ? ?\",\n",
       " 'Is there any other way to do the job ? ?',\n",
       " 'Survivability of our strategic forces ( Polaris , mobile and hardened Minuteman , hardened Atlas and Titan , and airborne Skybolt ) means that it will take some time , perhaps weeks , to destroy a strategic force .',\n",
       " 'War , under these circumstances , cannot be one massive exchange of nuclear devastation .',\n",
       " 'Forces will survive a surprise attack , and these forces will give depth , or considerable duration , to the conflict .',\n",
       " 'The forces which survive the initial attack must be found and destroyed .',\n",
       " 'Even mobile forces must be found and destroyed .',\n",
       " 'But , how does one go about the job of finding and destroying mobile forces ? ?',\n",
       " 'They are not susceptible to wholesale destruction by ballistic missile .',\n",
       " 'Some day , many years in the future , true spacecraft will be able to find and destroy mobile targets .',\n",
       " 'But until we have an effective spacecraft , the answer to the hunter-killer problem is manned aircraft .',\n",
       " \"However , the aircraft which we have today are tied to large , `` soft '' airfields .\",\n",
       " 'Nuclear rockets can destroy airfields with ease .',\n",
       " 'Here then is our problem : aircraft are vital to winning a war today because they can perform those missions which a missile is totally incapable of performing ; ;',\n",
       " 'but the airfield , on which the aircraft is completely dependent , is doomed by the missile .',\n",
       " \"This makes today's aircraft a one-shot , or one mission , weapon .\",\n",
       " 'Aircraft are mighty expensive if you can use them only once .',\n",
       " 'This is the point on which so many people have written off the aircraft in favor of the missile .',\n",
       " \"But remember this -- it isn't the aircraft which is vulnerable to nuclear rockets , it is the airfield .\",\n",
       " 'Eliminate the vulnerability of aircraft on the ground and you have essentially eliminated its vulnerability to long-range ballistic missiles .',\n",
       " 'There are four rather obvious ways to reduce or eliminate the vulnerability of aircraft on the ground :',\n",
       " \"Put aircraft in `` bomb-proof '' hangars when they are on the ground .\",\n",
       " 'Build long-range aircraft which can take off from small ( 3,000-foot ) airfields with runways .',\n",
       " 'If we could use all the small airfields we have in this country , we could disperse our strategic aircraft by a factor of 10 or more .',\n",
       " 'Use nuclear propulsions to keep our long-range military aircraft in the air for the majority of their useful life .',\n",
       " 'Using very high thrust-to-weight ratio engines , develop a vertical-takeoff-and-landing ( VTOL ) long-range military aircraft .',\n",
       " 'We have the technology today with which to build aircraft shelters which could withstand at least 200 Aj .',\n",
       " 'We could put a portion of our strategic bombers in such shelters .',\n",
       " 'Large , long-range bombers can be developed which would have the capability to take off from 3,000-foot runways , but they would require more powerful engines than we have today .',\n",
       " 'There is little enthusiasm for spending money to develop more powerful engines because of the erroneous belief that the aircraft has been made obsolete by the missile .',\n",
       " 'This same preoccupation with missiles at the expense of aircraft has resulted in our half-hearted effort to develop nuclear propulsion for aircraft .',\n",
       " \"One seldom hears the analogy `` nuclear propulsion will do for the aircraft what it has already done for the submarine '' .\",\n",
       " 'If , for some reason such as economy , we are not going to develop aircraft nuclear propulsion with a sense of national urgency , then we should turn our effort to developing jet engines with a thrust-to-weight ratio of 12 or 15 to one .',\n",
       " 'With powerplants such as these , vertical takeoff and landing combat aircraft could be built .',\n",
       " 'For example , a 12-to-one engine would power a supersonic VTOL fighter .',\n",
       " 'With a 15-to-one engine , a supersonic aircraft weighing 300,000 pounds could rise vertically .',\n",
       " \"The reason that we are not going ahead full speed to develop high thrust-to-weight engines is that it would cost perhaps a billion dollars -- and you don't spend that sort of money if aircraft are obsolete .\",\n",
       " 'When aircraft are no longer helpless on airfields , they are no longer vulnerable to Aj .',\n",
       " 'If our SAC bombers were , today , capable of surviving a surprise missile attack and because of infinite dispersion or long endurance had the capability to strike at Russia again , and again , and again , those bombers would unquestionably assure our military dominance .',\n",
       " \"We would have the means to seek out and destroy the enemy's force -- whether it were fixed or mobile .\",\n",
       " 'With such a force of manned bombers we could bring enormous pressure to bear on an enemy , and this pressure would be selective and extremely discriminating .',\n",
       " \"No need to kill an entire city and all its people because we lacked the precision and reconnaissance to selectively disarm the enemy's military force .\",\n",
       " 'Our first necessity , at the very outset of war , is post-attack reconnaissance .',\n",
       " 'In a few years we will have SAMOS ( semiautomatic missile observation system ) .',\n",
       " 'But in the case of moving targets , and targets which have limited mobility , what will their location be when it is time to destroy them ? ?',\n",
       " 'What targets have we successfully knocked out ? ?',\n",
       " 'A ballistic missile cannot , today , tell you if it was successful or unsuccessful .',\n",
       " 'What targets still remain to be hit ? ?',\n",
       " 'These crucial questions must be answered by post-attack reconnaissance .',\n",
       " 'SAMOS will be hard put to see through clouds -- and to see in the dark .',\n",
       " 'Even if this is some day possible , there remains the 30-minute time of flight of a missile to its overseas target .',\n",
       " 'If the target can change its position significantly during the 30 minutes the missile is in the air on its way , the probability of the missile destroying the target is drastically reduced .',\n",
       " 'Pre-attack reconnaissance is vital but only post-attack reconnaissance will allow us to terminate the war favorably .',\n",
       " 'It would be priceless to have an aircraft to gather that post-attack reconnaissance .',\n",
       " 'It could operate under the clouds and perform infrared photography through clouds and at night .',\n",
       " 'It would be even more valuable because that same aircraft could immediately destroy any targets it discovered -- no need to wait for a missile to come all the way from the United States with the chance that the target , if it were mobile , would be gone .',\n",
       " 'A large aircraft , such as the B-52 or B-70 , could carry perhaps 50 or 100 small nuclear weapons .',\n",
       " 'Few people realize that one kiloton of nuclear explosive power will create 1,000 psi overpressure at 100 feet .',\n",
       " 'Or put another way , the hardest missile site planned today could be destroyed by placing a one-kiloton warhead ( 1/20th the size of those used in Hiroshima and Nagasaki ) within 100 to 200 feet of the target ! !',\n",
       " 'It is our lack of extreme accuracy which forces the use of very large yield nuclear weapons .',\n",
       " 'Today we have side-looking radar which has such high resolution that the radar picture clearly shows individual buildings , runways , taxi-ways , separate spans of bridges , etc. .',\n",
       " \"With these keen `` eyes '' and small nuclear weapons delivered with accuracy , military forces can be directly attacked with minimum damage to urban areas .\",\n",
       " \"If we fail to develop the means to hunt down and destroy the enemy's military force with extreme care and precision , and if war comes in spite of our most ardent desires for peace , our choice of alternatives will be truly frightening .\"]"
      ]
     },
     "execution_count": 8,
     "metadata": {},
     "output_type": "execute_result"
    }
   ],
   "source": [
    "hobbies_fileids = brown.fileids(categories='hobbies')\n",
    "\n",
    "hobbies_sents = brown.sents(fileids=[hobbies_fileids[2]])[1:]\n",
    "hobbies_sents = [' '.join(s) for s in hobbies_sents]\n",
    "\n",
    "hobbies_sents"
   ]
  },
  {
   "cell_type": "markdown",
   "id": "716777c8-a39b-4d24-ba7c-edbf3ccd01e3",
   "metadata": {},
   "source": [
    "## Searching for the most common verbs in the text"
   ]
  },
  {
   "cell_type": "code",
   "execution_count": 9,
   "id": "33931333-8040-4641-b3db-b82527318d6d",
   "metadata": {},
   "outputs": [
    {
     "data": {
      "text/html": [
       "<div>\n",
       "<style scoped>\n",
       "    .dataframe tbody tr th:only-of-type {\n",
       "        vertical-align: middle;\n",
       "    }\n",
       "\n",
       "    .dataframe tbody tr th {\n",
       "        vertical-align: top;\n",
       "    }\n",
       "\n",
       "    .dataframe thead th {\n",
       "        text-align: right;\n",
       "    }\n",
       "</style>\n",
       "<table border=\"1\" class=\"dataframe\">\n",
       "  <thead>\n",
       "    <tr style=\"text-align: right;\">\n",
       "      <th></th>\n",
       "      <th>word</th>\n",
       "      <th>count</th>\n",
       "    </tr>\n",
       "  </thead>\n",
       "  <tbody>\n",
       "    <tr>\n",
       "      <th>0</th>\n",
       "      <td>destroy</td>\n",
       "      <td>14</td>\n",
       "    </tr>\n",
       "    <tr>\n",
       "      <th>1</th>\n",
       "      <td>used</td>\n",
       "      <td>6</td>\n",
       "    </tr>\n",
       "    <tr>\n",
       "      <th>2</th>\n",
       "      <td>develop</td>\n",
       "      <td>6</td>\n",
       "    </tr>\n",
       "    <tr>\n",
       "      <th>3</th>\n",
       "      <td>destroyed</td>\n",
       "      <td>5</td>\n",
       "    </tr>\n",
       "    <tr>\n",
       "      <th>4</th>\n",
       "      <td>manned</td>\n",
       "      <td>5</td>\n",
       "    </tr>\n",
       "    <tr>\n",
       "      <th>5</th>\n",
       "      <td>given</td>\n",
       "      <td>4</td>\n",
       "    </tr>\n",
       "    <tr>\n",
       "      <th>6</th>\n",
       "      <td>take</td>\n",
       "      <td>4</td>\n",
       "    </tr>\n",
       "    <tr>\n",
       "      <th>7</th>\n",
       "      <td>moving</td>\n",
       "      <td>4</td>\n",
       "    </tr>\n",
       "    <tr>\n",
       "      <th>8</th>\n",
       "      <td>known</td>\n",
       "      <td>3</td>\n",
       "    </tr>\n",
       "    <tr>\n",
       "      <th>9</th>\n",
       "      <td>fixed</td>\n",
       "      <td>3</td>\n",
       "    </tr>\n",
       "  </tbody>\n",
       "</table>\n",
       "</div>"
      ],
      "text/plain": [
       "        word  count\n",
       "0    destroy     14\n",
       "1       used      6\n",
       "2    develop      6\n",
       "3  destroyed      5\n",
       "4     manned      5\n",
       "5      given      4\n",
       "6       take      4\n",
       "7     moving      4\n",
       "8      known      3\n",
       "9      fixed      3"
      ]
     },
     "execution_count": 9,
     "metadata": {},
     "output_type": "execute_result"
    }
   ],
   "source": [
    "tagged_words = brown.tagged_words(fileids=[hobbies_fileids[2]])\n",
    "verbs_list = [w for w, t in tagged_words if t.startswith('V')]\n",
    "\n",
    "verbs_freq = FreqDist(verbs_list)\n",
    "df = pd.DataFrame(verbs_freq.most_common(10), columns=['word', 'count'])\n",
    "df"
   ]
  }
 ],
 "metadata": {
  "kernelspec": {
   "display_name": "Python 3 (ipykernel)",
   "language": "python",
   "name": "python3"
  },
  "language_info": {
   "codemirror_mode": {
    "name": "ipython",
    "version": 3
   },
   "file_extension": ".py",
   "mimetype": "text/x-python",
   "name": "python",
   "nbconvert_exporter": "python",
   "pygments_lexer": "ipython3",
   "version": "3.12.2"
  }
 },
 "nbformat": 4,
 "nbformat_minor": 5
}
